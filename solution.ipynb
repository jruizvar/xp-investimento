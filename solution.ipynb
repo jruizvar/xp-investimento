{
 "cells": [
  {
   "cell_type": "markdown",
   "metadata": {},
   "source": [
    "# Desafio XP Investimentos\n",
    "\n",
    "O desafio envolve prever se uma determinada operação de um cliente em uma data retornou “1” ou “0”. Para isso, são disponibilizados dados transacionais e cadastrais dos clientes."
   ]
  },
  {
   "cell_type": "markdown",
   "metadata": {},
   "source": [
    "## Leitura dos dados\n",
    "\n",
    "Para fazer leitura dos dados utilizamos a livraria [pandas](https://pandas.pydata.org) do Python."
   ]
  },
  {
   "cell_type": "code",
   "execution_count": 1,
   "metadata": {},
   "outputs": [],
   "source": [
    "import pandas as pd\n",
    "\n",
    "%matplotlib inline\n",
    "import matplotlib.pyplot as plt"
   ]
  },
  {
   "cell_type": "code",
   "execution_count": 2,
   "metadata": {},
   "outputs": [],
   "source": [
    "pessoas = pd.read_csv('data/_pessoas.csv', index_col=['ID'], parse_dates=['data'])\n",
    "train = pd.read_csv('data/_transacao_train.csv', parse_dates=['data'])"
   ]
  },
  {
   "cell_type": "markdown",
   "metadata": {},
   "source": [
    "## Modelagem do DataFrame\n",
    "\n",
    "Usamos [pandas.DataFrame.join](https://pandas.pydata.org/pandas-docs/stable/generated/pandas.DataFrame.join.html) para juntar os dados cadastrais dos clientes com os dados transacionais."
   ]
  },
  {
   "cell_type": "code",
   "execution_count": 3,
   "metadata": {},
   "outputs": [],
   "source": [
    "df = train.join(pessoas, on='ID', how='left', lsuffix='_t')"
   ]
  },
  {
   "cell_type": "code",
   "execution_count": 4,
   "metadata": {},
   "outputs": [
    {
     "data": {
      "text/plain": [
       "(1939676, 45)"
      ]
     },
     "execution_count": 4,
     "metadata": {},
     "output_type": "execute_result"
    }
   ],
   "source": [
    "df.shape"
   ]
  },
  {
   "cell_type": "code",
   "execution_count": 5,
   "metadata": {},
   "outputs": [
    {
     "data": {
      "text/html": [
       "<div>\n",
       "<style scoped>\n",
       "    .dataframe tbody tr th:only-of-type {\n",
       "        vertical-align: middle;\n",
       "    }\n",
       "\n",
       "    .dataframe tbody tr th {\n",
       "        vertical-align: top;\n",
       "    }\n",
       "\n",
       "    .dataframe thead th {\n",
       "        text-align: right;\n",
       "    }\n",
       "</style>\n",
       "<table border=\"1\" class=\"dataframe\">\n",
       "  <thead>\n",
       "    <tr style=\"text-align: right;\">\n",
       "      <th></th>\n",
       "      <th>ID</th>\n",
       "      <th>data_t</th>\n",
       "      <th>categoria</th>\n",
       "      <th>var10_t</th>\n",
       "      <th>retorno</th>\n",
       "      <th>var1</th>\n",
       "      <th>grupo</th>\n",
       "      <th>var2</th>\n",
       "      <th>data</th>\n",
       "      <th>var3</th>\n",
       "      <th>...</th>\n",
       "      <th>var29</th>\n",
       "      <th>var30</th>\n",
       "      <th>var31</th>\n",
       "      <th>var32</th>\n",
       "      <th>var33</th>\n",
       "      <th>var34</th>\n",
       "      <th>var35</th>\n",
       "      <th>var36</th>\n",
       "      <th>var37</th>\n",
       "      <th>var38</th>\n",
       "    </tr>\n",
       "  </thead>\n",
       "  <tbody>\n",
       "    <tr>\n",
       "      <th>0</th>\n",
       "      <td>cli_100165</td>\n",
       "      <td>2022-07-17</td>\n",
       "      <td>tipo5</td>\n",
       "      <td>type 542</td>\n",
       "      <td>0</td>\n",
       "      <td>tipo2</td>\n",
       "      <td>group 17304</td>\n",
       "      <td>tipo2</td>\n",
       "      <td>2022-03-25</td>\n",
       "      <td>tipo40</td>\n",
       "      <td>...</td>\n",
       "      <td>False</td>\n",
       "      <td>False</td>\n",
       "      <td>False</td>\n",
       "      <td>False</td>\n",
       "      <td>False</td>\n",
       "      <td>False</td>\n",
       "      <td>False</td>\n",
       "      <td>False</td>\n",
       "      <td>False</td>\n",
       "      <td>0</td>\n",
       "    </tr>\n",
       "    <tr>\n",
       "      <th>1</th>\n",
       "      <td>cli_100900</td>\n",
       "      <td>2022-07-17</td>\n",
       "      <td>tipo5</td>\n",
       "      <td>type 551</td>\n",
       "      <td>0</td>\n",
       "      <td>tipo2</td>\n",
       "      <td>group 17304</td>\n",
       "      <td>tipo2</td>\n",
       "      <td>2022-07-16</td>\n",
       "      <td>tipo12</td>\n",
       "      <td>...</td>\n",
       "      <td>False</td>\n",
       "      <td>False</td>\n",
       "      <td>False</td>\n",
       "      <td>False</td>\n",
       "      <td>False</td>\n",
       "      <td>False</td>\n",
       "      <td>False</td>\n",
       "      <td>False</td>\n",
       "      <td>False</td>\n",
       "      <td>17</td>\n",
       "    </tr>\n",
       "    <tr>\n",
       "      <th>2</th>\n",
       "      <td>cli_101418</td>\n",
       "      <td>2022-07-17</td>\n",
       "      <td>tipo5</td>\n",
       "      <td>type 1340</td>\n",
       "      <td>1</td>\n",
       "      <td>tipo2</td>\n",
       "      <td>group 7011</td>\n",
       "      <td>tipo3</td>\n",
       "      <td>2022-02-08</td>\n",
       "      <td>tipo4</td>\n",
       "      <td>...</td>\n",
       "      <td>False</td>\n",
       "      <td>False</td>\n",
       "      <td>False</td>\n",
       "      <td>True</td>\n",
       "      <td>False</td>\n",
       "      <td>True</td>\n",
       "      <td>False</td>\n",
       "      <td>True</td>\n",
       "      <td>True</td>\n",
       "      <td>87</td>\n",
       "    </tr>\n",
       "    <tr>\n",
       "      <th>3</th>\n",
       "      <td>cli_101879</td>\n",
       "      <td>2022-07-17</td>\n",
       "      <td>tipo3</td>\n",
       "      <td>type 3</td>\n",
       "      <td>1</td>\n",
       "      <td>tipo2</td>\n",
       "      <td>group 17376</td>\n",
       "      <td>tipo3</td>\n",
       "      <td>2020-12-31</td>\n",
       "      <td>tipo40</td>\n",
       "      <td>...</td>\n",
       "      <td>True</td>\n",
       "      <td>True</td>\n",
       "      <td>True</td>\n",
       "      <td>True</td>\n",
       "      <td>True</td>\n",
       "      <td>True</td>\n",
       "      <td>True</td>\n",
       "      <td>True</td>\n",
       "      <td>True</td>\n",
       "      <td>100</td>\n",
       "    </tr>\n",
       "    <tr>\n",
       "      <th>4</th>\n",
       "      <td>cli_101879</td>\n",
       "      <td>2022-07-17</td>\n",
       "      <td>tipo3</td>\n",
       "      <td>type 3</td>\n",
       "      <td>1</td>\n",
       "      <td>tipo2</td>\n",
       "      <td>group 17376</td>\n",
       "      <td>tipo3</td>\n",
       "      <td>2020-12-31</td>\n",
       "      <td>tipo40</td>\n",
       "      <td>...</td>\n",
       "      <td>True</td>\n",
       "      <td>True</td>\n",
       "      <td>True</td>\n",
       "      <td>True</td>\n",
       "      <td>True</td>\n",
       "      <td>True</td>\n",
       "      <td>True</td>\n",
       "      <td>True</td>\n",
       "      <td>True</td>\n",
       "      <td>100</td>\n",
       "    </tr>\n",
       "  </tbody>\n",
       "</table>\n",
       "<p>5 rows × 45 columns</p>\n",
       "</div>"
      ],
      "text/plain": [
       "           ID     data_t categoria    var10_t  retorno   var1        grupo  \\\n",
       "0  cli_100165 2022-07-17     tipo5   type 542        0  tipo2  group 17304   \n",
       "1  cli_100900 2022-07-17     tipo5   type 551        0  tipo2  group 17304   \n",
       "2  cli_101418 2022-07-17     tipo5  type 1340        1  tipo2   group 7011   \n",
       "3  cli_101879 2022-07-17     tipo3     type 3        1  tipo2  group 17376   \n",
       "4  cli_101879 2022-07-17     tipo3     type 3        1  tipo2  group 17376   \n",
       "\n",
       "    var2       data    var3  ...    var29  var30  var31  var32  var33  var34  \\\n",
       "0  tipo2 2022-03-25  tipo40  ...    False  False  False  False  False  False   \n",
       "1  tipo2 2022-07-16  tipo12  ...    False  False  False  False  False  False   \n",
       "2  tipo3 2022-02-08   tipo4  ...    False  False  False   True  False   True   \n",
       "3  tipo3 2020-12-31  tipo40  ...     True   True   True   True   True   True   \n",
       "4  tipo3 2020-12-31  tipo40  ...     True   True   True   True   True   True   \n",
       "\n",
       "   var35  var36  var37  var38  \n",
       "0  False  False  False      0  \n",
       "1  False  False  False     17  \n",
       "2  False   True   True     87  \n",
       "3   True   True   True    100  \n",
       "4   True   True   True    100  \n",
       "\n",
       "[5 rows x 45 columns]"
      ]
     },
     "execution_count": 5,
     "metadata": {},
     "output_type": "execute_result"
    }
   ],
   "source": [
    "df.head()"
   ]
  },
  {
   "cell_type": "markdown",
   "metadata": {},
   "source": [
    "## Dados faltantes\n",
    "\n",
    "Vamos conferir se o dataframe construido possui dados faltantes"
   ]
  },
  {
   "cell_type": "code",
   "execution_count": 6,
   "metadata": {},
   "outputs": [
    {
     "data": {
      "text/plain": [
       "(1939676, 45)"
      ]
     },
     "execution_count": 6,
     "metadata": {},
     "output_type": "execute_result"
    }
   ],
   "source": [
    "df = df[df.retorno.notnull()]\n",
    "df.shape"
   ]
  },
  {
   "cell_type": "markdown",
   "metadata": {},
   "source": [
    "## Análise de dados categóricos\n",
    "\n",
    "Para simplificar a análise vamos remover as colunas que possuem mais de 10 categorias"
   ]
  },
  {
   "cell_type": "code",
   "execution_count": 7,
   "metadata": {},
   "outputs": [],
   "source": [
    "def cat_cols(df):\n",
    "    return set(df.columns) - set(df._get_numeric_data().columns)\n",
    "\n",
    "\n",
    "for col in cat_cols(df):\n",
    "    n = len(df[col].unique())\n",
    "    if n > 10:\n",
    "        df.drop([col], axis=1, inplace=True)"
   ]
  },
  {
   "cell_type": "code",
   "execution_count": 8,
   "metadata": {},
   "outputs": [
    {
     "data": {
      "text/plain": [
       "(1939676, 74)"
      ]
     },
     "execution_count": 8,
     "metadata": {},
     "output_type": "execute_result"
    }
   ],
   "source": [
    "columns = list(cat_cols(df))\n",
    "df = pd.get_dummies(df, columns=columns)\n",
    "df.shape"
   ]
  },
  {
   "cell_type": "markdown",
   "metadata": {},
   "source": [
    "## Análise de correlações\n",
    "\n",
    "Selecionaremos as variáveis que tenham uma correlação absoluta com a variável retorno maior do que **0.1**"
   ]
  },
  {
   "cell_type": "code",
   "execution_count": 9,
   "metadata": {},
   "outputs": [],
   "source": [
    "corr_matrix = df.corr()\n",
    "corr_matrix = corr_matrix[abs(corr_matrix['retorno']) > 0.1]"
   ]
  },
  {
   "cell_type": "code",
   "execution_count": 10,
   "metadata": {},
   "outputs": [
    {
     "data": {
      "image/png": "[encoded data removed]",
      "text/plain": [
       "<matplotlib.figure.Figure at 0x7f35e46a1080>"
      ]
     },
     "metadata": {},
     "output_type": "display_data"
    }
   ],
   "source": [
    "corr_matrix.retorno.plot(kind='barh', grid=True, title=\"Análise de Correlações\", figsize=(8,16));"
   ]
  },
  {
   "cell_type": "code",
   "execution_count": 11,
   "metadata": {},
   "outputs": [
    {
     "data": {
      "text/plain": [
       "(1939676, 48)"
      ]
     },
     "execution_count": 11,
     "metadata": {},
     "output_type": "execute_result"
    }
   ],
   "source": [
    "good_variables = corr_matrix.retorno.index\n",
    "df = df[good_variables]\n",
    "df.shape"
   ]
  },
  {
   "cell_type": "markdown",
   "metadata": {},
   "source": [
    "## Modelo de classificação\n",
    "\n",
    "Utilizamos a livraria [scikit-learn](http://scikit-learn.org) para criar o modelo de classificação."
   ]
  },
  {
   "cell_type": "code",
   "execution_count": 12,
   "metadata": {},
   "outputs": [],
   "source": [
    "y = df.retorno\n",
    "X = df.drop(['retorno'], axis=1)"
   ]
  },
  {
   "cell_type": "code",
   "execution_count": 13,
   "metadata": {},
   "outputs": [],
   "source": [
    "from sklearn.ensemble import RandomForestClassifier\n",
    "model = RandomForestClassifier(max_depth=10, random_state=42);\n",
    "\n",
    "from sklearn.dummy import DummyClassifier\n",
    "dummy = DummyClassifier(strategy='most_frequent')"
   ]
  },
  {
   "cell_type": "code",
   "execution_count": 14,
   "metadata": {},
   "outputs": [
    {
     "data": {
      "image/png": "[encoded data removed]",
      "text/plain": [
       "<matplotlib.figure.Figure at 0x7f35e13a5f60>"
      ]
     },
     "metadata": {},
     "output_type": "display_data"
    }
   ],
   "source": [
    "import scikitplot as skplt\n",
    "\n",
    "fig, ax = plt.subplots(1, 2, sharey=True, figsize=(14,6))\n",
    "skplt.estimators.plot_learning_curve(model, X, y, ax=ax[0], title='Random Forest')\n",
    "skplt.estimators.plot_learning_curve(dummy, X, y, ax=ax[1], title='Dummy Classifier');"
   ]
  },
  {
   "cell_type": "code",
   "execution_count": 15,
   "metadata": {},
   "outputs": [
    {
     "data": {
      "text/plain": [
       "RandomForestClassifier(bootstrap=True, class_weight=None, criterion='gini',\n",
       "            max_depth=10, max_features='auto', max_leaf_nodes=None,\n",
       "            min_impurity_decrease=0.0, min_impurity_split=None,\n",
       "            min_samples_leaf=1, min_samples_split=2,\n",
       "            min_weight_fraction_leaf=0.0, n_estimators=10, n_jobs=1,\n",
       "            oob_score=False, random_state=42, verbose=0, warm_start=False)"
      ]
     },
     "execution_count": 15,
     "metadata": {},
     "output_type": "execute_result"
    }
   ],
   "source": [
    "model.fit(X, y)"
   ]
  },
  {
   "cell_type": "markdown",
   "metadata": {},
   "source": [
    "## Previsões para os dados de teste"
   ]
  },
  {
   "cell_type": "code",
   "execution_count": 16,
   "metadata": {},
   "outputs": [],
   "source": [
    "test = pd.read_csv('data/_transacao_test.csv', parse_dates=['data'])\n",
    "\n",
    "df = test.join(pessoas, on='ID', how='left', lsuffix='_t')\n",
    "df = pd.get_dummies(df, columns=columns)\n",
    "\n",
    "X = df[good_variables.drop(['retorno'])]"
   ]
  },
  {
   "cell_type": "markdown",
   "metadata": {},
   "source": [
    "## Resultado final\n",
    "\n",
    "O vetor com as previsões realizadas é **output_test**"
   ]
  },
  {
   "cell_type": "code",
   "execution_count": 17,
   "metadata": {},
   "outputs": [],
   "source": [
    "output_test = model.predict(X)"
   ]
  }
 ],
 "metadata": {
  "kernelspec": {
   "display_name": "Python 3",
   "language": "python",
   "name": "python3"
  },
  "language_info": {
   "codemirror_mode": {
    "name": "ipython",
    "version": 3
   },
   "file_extension": ".py",
   "mimetype": "text/x-python",
   "name": "python",
   "nbconvert_exporter": "python",
   "pygments_lexer": "ipython3",
   "version": "3.6.3"
  }
 },
 "nbformat": 4,
 "nbformat_minor": 2
}
